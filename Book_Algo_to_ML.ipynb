{
  "nbformat": 4,
  "nbformat_minor": 0,
  "metadata": {
    "colab": {
      "provenance": [],
      "authorship_tag": "ABX9TyNDEIc4iiehZmobmA4EUfaG",
      "include_colab_link": true
    },
    "kernelspec": {
      "name": "python3",
      "display_name": "Python 3"
    },
    "language_info": {
      "name": "python"
    }
  },
  "cells": [
    {
      "cell_type": "markdown",
      "metadata": {
        "id": "view-in-github",
        "colab_type": "text"
      },
      "source": [
        "<a href=\"https://colab.research.google.com/github/92Benthara/FinalAssignmentWeek6/blob/main/Book_Algo_to_ML.ipynb\" target=\"_parent\"><img src=\"https://colab.research.google.com/assets/colab-badge.svg\" alt=\"Open In Colab\"/></a>"
      ]
    },
    {
      "cell_type": "code",
      "execution_count": 5,
      "metadata": {
        "id": "bneY-Sejj5CZ"
      },
      "outputs": [],
      "source": [
        "# Exercise 01\n",
        "\n",
        "def check_if_symmetric(input_string):\n",
        "  #Convert the input string to lowercase, to ignore the capitalization\n",
        "  input_string = input_string.lower()\n",
        "\n",
        "  #remove spaces from the input string\n",
        "  input_string = input_string.replace(\" \", \"\")\n",
        "\n",
        "  #check if the string is equal to its reverse\n",
        "  return input_string == input_string[::-1]\n",
        "\n"
      ]
    },
    {
      "cell_type": "code",
      "source": [
        "#Example\n",
        "input_str = \"A man a plan a canal Panama\"\n",
        "result = check_if_symmetric(input_str)\n",
        "print(result)"
      ],
      "metadata": {
        "colab": {
          "base_uri": "https://localhost:8080/"
        },
        "id": "1WP58MWAk28L",
        "outputId": "c7839726-f51d-45d6-d679-57c2d3d6776f"
      },
      "execution_count": 6,
      "outputs": [
        {
          "output_type": "stream",
          "name": "stdout",
          "text": [
            "True\n"
          ]
        }
      ]
    },
    {
      "cell_type": "code",
      "source": [
        "#Example\n",
        "input_str = \"baby\"\n",
        "result = check_if_symmetric(input_str)\n",
        "print(result)"
      ],
      "metadata": {
        "colab": {
          "base_uri": "https://localhost:8080/"
        },
        "id": "nkBELlialX31",
        "outputId": "92de8521-5bf3-4b67-9e82-8088c6620004"
      },
      "execution_count": 4,
      "outputs": [
        {
          "output_type": "stream",
          "name": "stdout",
          "text": [
            "False\n"
          ]
        }
      ]
    },
    {
      "cell_type": "code",
      "source": [
        "# Exercise 02\n",
        "\n",
        "def convert_to_numbers(input_string):\n",
        "  #Convert the input string to lowercase to ignore capitalization\n",
        "  input_string = input_string.lower()\n",
        "\n",
        "  #define the mapping of letters to numbers\n",
        "  # This part creates a dictionary\n",
        "  # ord() is a function that returns the ASCII value of a character.\n",
        "  # Adding 1 to this index makes the index one-based\n",
        "  letter_to_numbers = {char: ord(char) - ord('a') + 1\n",
        "                       for char in 'abcedfghijklmnopqrstuvwxyz'}\n",
        "\n",
        "  # Replace spaces with 0 and convert letters to numbers\n",
        "  # iterates over each character (char) in the 'input_string'\n",
        "  # get the value associated with the key 'char' from the dictionary\n",
        "  result = [letter_to_numbers.get(char, 0)\n",
        "            for char in input_string]\n",
        "\n",
        "  return result\n"
      ],
      "metadata": {
        "id": "IDDzy3gxl5Zn"
      },
      "execution_count": 10,
      "outputs": []
    },
    {
      "cell_type": "code",
      "source": [
        "input_str = 'a cat'\n",
        "result = convert_to_numbers(input_str)\n",
        "print(result)"
      ],
      "metadata": {
        "colab": {
          "base_uri": "https://localhost:8080/"
        },
        "id": "cESKQzv1of7a",
        "outputId": "3682c32c-b431-4e1a-8319-af40a5665133"
      },
      "execution_count": 8,
      "outputs": [
        {
          "output_type": "stream",
          "name": "stdout",
          "text": [
            "[1, 0, 3, 1, 20]\n"
          ]
        }
      ]
    },
    {
      "cell_type": "code",
      "source": [
        "input_str = 'wild elephant'\n",
        "result = convert_to_numbers(input_str)\n",
        "print(result)"
      ],
      "metadata": {
        "colab": {
          "base_uri": "https://localhost:8080/"
        },
        "id": "uucBVJXYpXXO",
        "outputId": "102edd68-2d4e-4999-e750-91747b8d982a"
      },
      "execution_count": 9,
      "outputs": [
        {
          "output_type": "stream",
          "name": "stdout",
          "text": [
            "[23, 9, 12, 4, 0, 5, 12, 5, 16, 8, 1, 14, 20]\n"
          ]
        }
      ]
    },
    {
      "cell_type": "code",
      "source": [
        "# Exercise 03\n",
        "\n",
        "def convert_to_letters(number_array):\n",
        "  #mapping numbers to letters\n",
        "  # adds the current value of num to the ASCII value of 'a' and then subtracts 1.\n",
        "  # the result of the addition and\n",
        "  # converts it back to the corresponding ASCII character using the chr() function\n",
        "  # ''.join joins the list of letters into a single string and '' is the seperator\n",
        "  result = ''.join([chr(num + ord('a') - 1)\n",
        "                    if 1 <= num <= 26\n",
        "                    else ' '\n",
        "                    for num in number_array])\n",
        "  return result\n"
      ],
      "metadata": {
        "id": "YZr7irbi2mGQ"
      },
      "execution_count": 2,
      "outputs": []
    },
    {
      "cell_type": "code",
      "source": [
        "#example\n",
        "number_array = [1, 0, 3, 1, 20]\n",
        "result = convert_to_letters(number_array)\n",
        "print(result)"
      ],
      "metadata": {
        "colab": {
          "base_uri": "https://localhost:8080/"
        },
        "id": "usYTSwYAfFN5",
        "outputId": "b288cd56-92af-4b11-8211-d4f1a059f4a5"
      },
      "execution_count": 3,
      "outputs": [
        {
          "output_type": "stream",
          "name": "stdout",
          "text": [
            "a cat\n"
          ]
        }
      ]
    },
    {
      "cell_type": "code",
      "source": [
        "#example\n",
        "number_array = [1, 0, 4, 23, 19]\n",
        "result = convert_to_letters(number_array)\n",
        "print(result)"
      ],
      "metadata": {
        "colab": {
          "base_uri": "https://localhost:8080/"
        },
        "id": "WaTrjxAqfMsx",
        "outputId": "72dd0034-81c8-43d2-bda8-c64ac61398cb"
      },
      "execution_count": 6,
      "outputs": [
        {
          "output_type": "stream",
          "name": "stdout",
          "text": [
            "a dws\n"
          ]
        }
      ]
    },
    {
      "cell_type": "code",
      "source": [
        "#Exercise 04\n",
        "#create a empty list as intersection\n",
        "#starts a loop to iterate over each element in array1\n",
        "# if the current element present in array 2 and not present in the list\n",
        "# add the element to the list\n",
        "\n",
        "def get_intersection(array1, array2):\n",
        "  intersection = []\n",
        "\n",
        "  for element in array1:\n",
        "    if element in array2 and element not in intersection:\n",
        "      intersection.append(element)\n",
        "\n",
        "  return intersection"
      ],
      "metadata": {
        "id": "RVSIF29BfUo7"
      },
      "execution_count": 1,
      "outputs": []
    },
    {
      "cell_type": "code",
      "source": [
        "array1 = [1, 2, 3, 4, 5]\n",
        "array2 = [3, 4, 5, 6, 7]\n",
        "result = get_intersection(array1, array2)\n",
        "\n",
        "print(result)"
      ],
      "metadata": {
        "colab": {
          "base_uri": "https://localhost:8080/"
        },
        "id": "nOi7M5AWlBZz",
        "outputId": "06fd4603-8de6-41de-883d-0e44a1065e4b"
      },
      "execution_count": 3,
      "outputs": [
        {
          "output_type": "stream",
          "name": "stdout",
          "text": [
            "[3, 4, 5]\n"
          ]
        }
      ]
    },
    {
      "cell_type": "code",
      "source": [
        "#Exercise 05\n",
        "\n",
        "def get_union(array1, array2):\n",
        "  union = []\n",
        "\n",
        "  for element in array1:\n",
        "    if element not in union:\n",
        "      union.append(element)\n",
        "\n",
        "  for element in array2:\n",
        "    if element not in union:\n",
        "      union.append(element)\n",
        "\n",
        "  return union"
      ],
      "metadata": {
        "id": "2mx-Kf-ZlKE0"
      },
      "execution_count": 4,
      "outputs": []
    },
    {
      "cell_type": "code",
      "source": [
        "array1 = [1,2,3,4,5]\n",
        "array2 = [2,3,4,5,6]\n",
        "result = get_union(array1, array2)\n",
        "print(result)"
      ],
      "metadata": {
        "colab": {
          "base_uri": "https://localhost:8080/"
        },
        "id": "sTONcSHlm5Mt",
        "outputId": "5264bc9b-a2ad-456c-8d15-6a6cc0a15d8a"
      },
      "execution_count": 5,
      "outputs": [
        {
          "output_type": "stream",
          "name": "stdout",
          "text": [
            "[1, 2, 3, 4, 5, 6]\n"
          ]
        }
      ]
    },
    {
      "cell_type": "code",
      "source": [
        "#Exercise 06\n",
        "def count_character(input_string):\n",
        "  #ignore capitals\n",
        "  input_string = input_string.lower()\n",
        "\n",
        "  #empty dictionary to store\n",
        "  character_counts = {}\n",
        "\n",
        "  #iterate through each character in string\n",
        "  for char in input_string:\n",
        "    #check alphanumeric or space\n",
        "    if char.isalpha or char.isspace():\n",
        "      #get() use to retrieve the current count in the dictionary or default zero\n",
        "      character_counts[char] = character_counts.get(char, 0) + 1\n",
        "\n",
        "  return character_counts\n"
      ],
      "metadata": {
        "id": "X2NpaCiTm7s5"
      },
      "execution_count": 10,
      "outputs": []
    },
    {
      "cell_type": "code",
      "source": [
        "#example\n",
        "\n",
        "input_str = 'A Cat!!!'\n",
        "result = count_character(input_str)\n",
        "print(result)\n",
        "\n"
      ],
      "metadata": {
        "colab": {
          "base_uri": "https://localhost:8080/"
        },
        "id": "lSk__a7OMzaL",
        "outputId": "4a164fdc-1e77-4764-8c0c-57d5065b1122"
      },
      "execution_count": 11,
      "outputs": [
        {
          "output_type": "stream",
          "name": "stdout",
          "text": [
            "{'a': 2, ' ': 1, 'c': 1, 't': 1, '!': 3}\n"
          ]
        }
      ]
    },
    {
      "cell_type": "code",
      "source": [
        "#Exercise 07\n",
        "\n",
        "def is_prime(N):\n",
        "  # check if N is less than or equal to one\n",
        "  # 1 is not a prime number and primes numbers are positive only\n",
        "  if N <= 1:\n",
        "    return False\n",
        "\n",
        "  #loop iterates from 2 to the N/2 (inclusive)\n",
        "  # N//2 denotes the floor function\n",
        "  for n in range(2, (N//2) + 1):\n",
        "    #check if n divides N\n",
        "    if N % n == 0:\n",
        "      return False  #N is not prime\n",
        "\n",
        "    return True # N is prime\n"
      ],
      "metadata": {
        "id": "oW3jVfBBNRky"
      },
      "execution_count": 2,
      "outputs": []
    },
    {
      "cell_type": "code",
      "source": [
        "#Example\n",
        "N = 51\n",
        "result = is_prime(N)\n",
        "print(result)\n"
      ],
      "metadata": {
        "colab": {
          "base_uri": "https://localhost:8080/"
        },
        "id": "AlJXfrgltfBD",
        "outputId": "8280d9fb-13f2-4250-f6fe-3bc8d10a4d9d"
      },
      "execution_count": 3,
      "outputs": [
        {
          "output_type": "stream",
          "name": "stdout",
          "text": [
            "True\n"
          ]
        }
      ]
    },
    {
      "cell_type": "code",
      "source": [
        "#Example\n",
        "N = 1012\n",
        "result = is_prime(N)\n",
        "print(result)"
      ],
      "metadata": {
        "colab": {
          "base_uri": "https://localhost:8080/"
        },
        "id": "NHfG8LEOtfwM",
        "outputId": "20c0debe-1598-449b-88f5-628997cdd657"
      },
      "execution_count": 4,
      "outputs": [
        {
          "output_type": "stream",
          "name": "stdout",
          "text": [
            "False\n"
          ]
        }
      ]
    },
    {
      "cell_type": "code",
      "source": [
        "#Tests - Lesson 01\n",
        "tests = [\n",
        "    {\n",
        "        'function': check_if_symmetric,\n",
        "        'input': 'racecar',\n",
        "        'output': True\n",
        "    },\n",
        "    {\n",
        "        'function': check_if_symmetric,\n",
        "        'input': 'batman',\n",
        "        'output': True\n",
        "    }\n",
        "]\n",
        "\n",
        "num_successes = 0\n",
        "num_failures = 0\n",
        "\n",
        "for test in tests:\n",
        "  function = test['function']\n",
        "  test_input = test['input']\n",
        "  desired_output = test['output']\n",
        "  actual_output = function(test_input)\n",
        "\n",
        "  if actual_output == desired_output:\n",
        "    num_successes += 1\n",
        "  else:\n",
        "    num_failures += 1\n",
        "    function_name = function.__name__\n",
        "    print('')\n",
        "    print(f'{function_name} failed on input {test_input}');\n",
        "    print(f'\\tActual output: {actual_output}')\n",
        "    print(f'\\tDesired output: {desired_output}')\n",
        "\n",
        "print(f'Testing complete: {num_successes} successes and {num_failures} failures.')\n"
      ],
      "metadata": {
        "colab": {
          "base_uri": "https://localhost:8080/"
        },
        "id": "9pdlQKwQtkS2",
        "outputId": "dc79b17d-7508-459d-8b47-3548f67aba70"
      },
      "execution_count": 9,
      "outputs": [
        {
          "output_type": "stream",
          "name": "stdout",
          "text": [
            "\n",
            "check_if_symmetric failed on input batman\n",
            "\tActual output: False\n",
            "\tDesired output: True\n",
            "Testing complete: 1 successes and 1 failures.\n"
          ]
        }
      ]
    },
    {
      "cell_type": "code",
      "source": [],
      "metadata": {
        "id": "5FK6BmAHxYDj"
      },
      "execution_count": null,
      "outputs": []
    }
  ]
}